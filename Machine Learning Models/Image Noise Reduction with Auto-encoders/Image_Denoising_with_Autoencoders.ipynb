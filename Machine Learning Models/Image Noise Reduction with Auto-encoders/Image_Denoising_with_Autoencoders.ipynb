{
  "nbformat": 4,
  "nbformat_minor": 0,
  "metadata": {
    "kernelspec": {
      "display_name": "Python 3",
      "language": "python",
      "name": "python3"
    },
    "language_info": {
      "codemirror_mode": {
        "name": "ipython",
        "version": 3
      },
      "file_extension": ".py",
      "mimetype": "text/x-python",
      "name": "python",
      "nbconvert_exporter": "python",
      "pygments_lexer": "ipython3",
      "version": "3.6.8"
    },
    "colab": {
      "name": "Image Denoising with Autoencoders.ipynb",
      "provenance": [],
      "collapsed_sections": []
    }
  },
  "cells": [
    {
      "cell_type": "markdown",
      "metadata": {
        "id": "gcX6RYwTy0yn",
        "colab_type": "text"
      },
      "source": [
        "# Image Denoising with Autoencoders"
      ]
    },
    {
      "cell_type": "markdown",
      "metadata": {
        "id": "3fFZzO713CDQ",
        "colab_type": "text"
      },
      "source": [
        "**Objective** - We will create 2 neural netwrok model in this project:\n",
        "\n",
        "1. To train the model from handwritten digit from mnist dataset.\n",
        "\n",
        "2. To denoise input data(this is autoencoder). In our dataset, there is no noisy data. So, firstly we will add noisy data in Task 3 and then denoise our data. "
      ]
    },
    {
      "cell_type": "markdown",
      "metadata": {
        "id": "RhTTWYdg2n4k",
        "colab_type": "text"
      },
      "source": [
        "___\n",
        "## Task 1: Introduction and Importing Libraries"
      ]
    },
    {
      "cell_type": "markdown",
      "metadata": {
        "id": "-fGtZ7nRzSd2",
        "colab_type": "text"
      },
      "source": [
        "\n",
        "**Autoencoding** is a type of artifical neural network which helps to reduce the dimensionality of data by training the network for denoising(to ignore signal noise)."
      ]
    },
    {
      "cell_type": "code",
      "metadata": {
        "id": "vOF8cpy3y0yp",
        "colab_type": "code",
        "colab": {}
      },
      "source": [
        "import numpy as np\n",
        "\n",
        "from tensorflow.keras.datasets import mnist\n",
        "from matplotlib import pyplot as plt\n",
        "from tensorflow.keras.models import Sequential, Model\n",
        "from tensorflow.keras.layers import Dense, Input\n",
        "from tensorflow.keras.callbacks import EarlyStopping, LambdaCallback\n",
        "from tensorflow.keras.utils import to_categorical\n",
        "\n",
        "%matplotlib inline"
      ],
      "execution_count": 0,
      "outputs": []
    },
    {
      "cell_type": "markdown",
      "metadata": {
        "id": "1T4vm8u1y0yu",
        "colab_type": "text"
      },
      "source": [
        "## Task 2: Data Preprocessing"
      ]
    },
    {
      "cell_type": "code",
      "metadata": {
        "id": "AVSf1oPUy0yv",
        "colab_type": "code",
        "colab": {}
      },
      "source": [
        "(X_train, Y_train), (X_test, Y_test) = mnist.load_data()\n",
        "# our values are from range 0-255\n",
        "\n",
        "# now bring these values in range(0,255)\n",
        "X_train = X_train.astype('float')/255\n",
        "X_test = X_test.astype('float')/255\n",
        "\n",
        "# reshaping from (60000, (28,28)) to (60000, 784)\n",
        "X_train = np.reshape(X_train, (60000, 784))\n",
        "X_test = np.reshape(X_test, (10000, 784))"
      ],
      "execution_count": 0,
      "outputs": []
    },
    {
      "cell_type": "markdown",
      "metadata": {
        "id": "gmAfaAagy0y0",
        "colab_type": "text"
      },
      "source": [
        "## Task 3: Adding Noise"
      ]
    },
    {
      "cell_type": "markdown",
      "metadata": {
        "id": "VVBBJC2U5f0a",
        "colab_type": "text"
      },
      "source": [
        "**Objective** - To add articial noisy data in our dataset. "
      ]
    },
    {
      "cell_type": "code",
      "metadata": {
        "id": "to1fn7R9y0y1",
        "colab_type": "code",
        "outputId": "f718b651-8d1e-4401-8251-fc2d0cae85ff",
        "colab": {
          "base_uri": "https://localhost:8080/",
          "height": 293
        }
      },
      "source": [
        "# this cell is just for understanding\n",
        "noisyy = np.random.rand(60000, 784)\n",
        "noisyyy = noisyy * 0.9   # to ensure that value do not become tooo big or tooo small\n",
        "print(\"noisyy:\", noisyy)\n",
        "print(\"\\nnoisyy shape :\", noisyy.shape)\n",
        "print(\"\\nnoisyyy:\", noisyyy)"
      ],
      "execution_count": 0,
      "outputs": [
        {
          "output_type": "stream",
          "text": [
            "noisyy: [[0.69582459 0.43349652 0.3739099  ... 0.39028556 0.38465186 0.22255121]\n",
            " [0.12391058 0.46458176 0.90955174 ... 0.96329368 0.91850732 0.52616694]\n",
            " [0.93858602 0.59268611 0.32579132 ... 0.54914809 0.77860871 0.22582806]\n",
            " ...\n",
            " [0.83393083 0.79813878 0.40529666 ... 0.23775143 0.1416923  0.05010536]\n",
            " [0.36547917 0.03665682 0.40888859 ... 0.13630027 0.48899139 0.37548752]\n",
            " [0.06137785 0.69396621 0.37984677 ... 0.23805107 0.23745354 0.84993077]]\n",
            "\n",
            "noisyy shape : (60000, 784)\n",
            "\n",
            "noisyyy: [[0.62624213 0.39014687 0.33651891 ... 0.351257   0.34618668 0.20029609]\n",
            " [0.11151953 0.41812358 0.81859656 ... 0.86696431 0.82665659 0.47355025]\n",
            " [0.84472742 0.5334175  0.29321218 ... 0.49423328 0.70074784 0.20324525]\n",
            " ...\n",
            " [0.75053775 0.7183249  0.364767   ... 0.21397629 0.12752307 0.04509483]\n",
            " [0.32893125 0.03299113 0.36799973 ... 0.12267024 0.44009225 0.33793877]\n",
            " [0.05524007 0.62456959 0.3418621  ... 0.21424596 0.21370818 0.76493769]]\n"
          ],
          "name": "stdout"
        }
      ]
    },
    {
      "cell_type": "code",
      "metadata": {
        "id": "vrioyzw5y0y6",
        "colab_type": "code",
        "colab": {}
      },
      "source": [
        "# random.rand - It will give random values in range (0,1)\n",
        "X_train_noisy = X_train + np.random.rand(60000, 784)*0.9\n",
        "X_test_noisy = X_test + np.random.rand(10000, 784)*0.9  \n",
        "\n",
        "# to ensure that our data remains in range(0,1)\n",
        "# 0. means there are going to be floating values.\n",
        "X_train_noisy = np.clip(X_train_noisy, 0., 1.)\n",
        "X_test_noisy = np.clip(X_test_noisy, 0., 1.)"
      ],
      "execution_count": 0,
      "outputs": []
    },
    {
      "cell_type": "markdown",
      "metadata": {
        "id": "CHjPZjDbCuBq",
        "colab_type": "text"
      },
      "source": [
        "**Difference between imshow() and show()** - \n",
        "\n",
        "1. show() - It show images but do not store many images\n",
        "\n",
        "2. imshow() - It show images as well as store many images.\n",
        "\n",
        "# **jerry try to find and answer it please**"
      ]
    },
    {
      "cell_type": "code",
      "metadata": {
        "id": "dHB_1aqPy0y_",
        "colab_type": "code",
        "outputId": "0456dc97-e513-404a-9c1e-d79d2fc42f39",
        "colab": {
          "base_uri": "https://localhost:8080/",
          "height": 128
        }
      },
      "source": [
        "# what happwen when data is noisy\n",
        "# p - predictions\n",
        "def plot(x, p, labels=False):\n",
        "  plt.figure(figsize=(20, 2))\n",
        "  # we are taking 10 images at a time \n",
        "  for i in range(10):\n",
        "    plt.subplot(1, 10, i+1)\n",
        "    plt.imshow(x[i].reshape(28, 28), cmap='binary')\n",
        "    plt.xticks([])\n",
        "    plt.yticks([])\n",
        "    # if predictions have been done \n",
        "    if labels:\n",
        "      plt.xlabel(np.argmax(p[i]))\n",
        "  plt.show()      \n",
        "\n",
        "plot(X_train, None)"
      ],
      "execution_count": 0,
      "outputs": [
        {
          "output_type": "display_data",
          "data": {
            "image/png": "[encoded data removed]",
            "text/plain": [
              "<Figure size 1440x144 with 10 Axes>"
            ]
          },
          "metadata": {
            "tags": []
          }
        }
      ]
    },
    {
      "cell_type": "code",
      "metadata": {
        "id": "BLgS3v1_BTvG",
        "colab_type": "code",
        "outputId": "1fc171e3-f41c-4090-8e8c-5ee363e483c1",
        "colab": {
          "base_uri": "https://localhost:8080/",
          "height": 128
        }
      },
      "source": [
        "# plot after adding noise to our dataset\n",
        "plot(X_train_noisy, None)"
      ],
      "execution_count": 0,
      "outputs": [
        {
          "output_type": "display_data",
          "data": {
            "image/png": "[encoded data removed]",
            "text/plain": [
              "<Figure size 1440x144 with 10 Axes>"
            ]
          },
          "metadata": {
            "tags": []
          }
        }
      ]
    },
    {
      "cell_type": "markdown",
      "metadata": {
        "id": "ffVpBclBy0zD",
        "colab_type": "text"
      },
      "source": [
        "## Task 4: Building and Training a Classifier"
      ]
    },
    {
      "cell_type": "code",
      "metadata": {
        "id": "Er9NccAsy0zE",
        "colab_type": "code",
        "outputId": "8ed9a38f-e23d-4355-9414-ece568e53804",
        "colab": {
          "base_uri": "https://localhost:8080/",
          "height": 245
        }
      },
      "source": [
        "classifier = Sequential([\n",
        "                         Dense(258, activation='relu', input_shape=(784,)),\n",
        "                         Dense(258, activation='relu'),\n",
        "                         Dense(10, activation='softmax')\n",
        "])\n",
        "\n",
        "classifier.compile(\n",
        "    optimizer='adam',\n",
        "    # if our labels were encoded in onehotencoding then we could use loss='categorical_crossentropy'\n",
        "    loss='sparse_categorical_crossentropy',\n",
        "    metrics=['accuracy']\n",
        ")\n",
        "\n",
        "classifier.summary()"
      ],
      "execution_count": 0,
      "outputs": [
        {
          "output_type": "stream",
          "text": [
            "Model: \"sequential_1\"\n",
            "_________________________________________________________________\n",
            "Layer (type)                 Output Shape              Param #   \n",
            "=================================================================\n",
            "dense_8 (Dense)              (None, 258)               202530    \n",
            "_________________________________________________________________\n",
            "dense_9 (Dense)              (None, 258)               66822     \n",
            "_________________________________________________________________\n",
            "dense_10 (Dense)             (None, 10)                2590      \n",
            "=================================================================\n",
            "Total params: 271,942\n",
            "Trainable params: 271,942\n",
            "Non-trainable params: 0\n",
            "_________________________________________________________________\n"
          ],
          "name": "stdout"
        }
      ]
    },
    {
      "cell_type": "code",
      "metadata": {
        "id": "hz06WdWUy0zJ",
        "colab_type": "code",
        "outputId": "c5c54609-755a-43cf-ae04-3a80849dfde4",
        "colab": {
          "base_uri": "https://localhost:8080/",
          "height": 131
        }
      },
      "source": [
        "# batch_size=512 -> This is done to speed up the training\n",
        "classifier.fit(X_train, Y_train, batch_size=512, epochs=3)"
      ],
      "execution_count": 0,
      "outputs": [
        {
          "output_type": "stream",
          "text": [
            "Epoch 1/3\n",
            "118/118 [==============================] - 2s 17ms/step - loss: 0.4218 - accuracy: 0.8868\n",
            "Epoch 2/3\n",
            "118/118 [==============================] - 2s 17ms/step - loss: 0.1548 - accuracy: 0.9551\n",
            "Epoch 3/3\n",
            "118/118 [==============================] - 2s 17ms/step - loss: 0.1049 - accuracy: 0.9691\n"
          ],
          "name": "stdout"
        },
        {
          "output_type": "execute_result",
          "data": {
            "text/plain": [
              "<tensorflow.python.keras.callbacks.History at 0x7faa91ab6320>"
            ]
          },
          "metadata": {
            "tags": []
          },
          "execution_count": 35
        }
      ]
    },
    {
      "cell_type": "markdown",
      "metadata": {
        "id": "L2pkAXlIGuKr",
        "colab_type": "text"
      },
      "source": [
        "**Without noisy data**"
      ]
    },
    {
      "cell_type": "code",
      "metadata": {
        "id": "rvDO7qUiy0zN",
        "colab_type": "code",
        "outputId": "c14e662e-2813-4db3-a15a-e8e77c3663c4",
        "colab": {
          "base_uri": "https://localhost:8080/",
          "height": 50
        }
      },
      "source": [
        "loss, accuracy = classifier.evaluate(X_test, Y_test)\n",
        "print(accuracy)"
      ],
      "execution_count": 0,
      "outputs": [
        {
          "output_type": "stream",
          "text": [
            "313/313 [==============================] - 1s 2ms/step - loss: 0.0987 - accuracy: 0.9703\n",
            "0.970300018787384\n"
          ],
          "name": "stdout"
        }
      ]
    },
    {
      "cell_type": "markdown",
      "metadata": {
        "id": "edcGIwgAGb2B",
        "colab_type": "text"
      },
      "source": [
        "**With noisy data**"
      ]
    },
    {
      "cell_type": "code",
      "metadata": {
        "id": "9zfIwUnNGdwA",
        "colab_type": "code",
        "outputId": "f7ce3a55-47f9-4a5c-8b01-7a8dba44d79d",
        "colab": {
          "base_uri": "https://localhost:8080/",
          "height": 50
        }
      },
      "source": [
        "loss_noisy, accuracy_noisy = classifier.evaluate(X_test_noisy, Y_test)\n",
        "print(accuracy_noisy)"
      ],
      "execution_count": 0,
      "outputs": [
        {
          "output_type": "stream",
          "text": [
            "313/313 [==============================] - 1s 2ms/step - loss: 9.6860 - accuracy: 0.1614\n",
            "0.16140000522136688\n"
          ],
          "name": "stdout"
        }
      ]
    },
    {
      "cell_type": "markdown",
      "metadata": {
        "id": "VEtntE_Xy0zR",
        "colab_type": "text"
      },
      "source": [
        "## Task 5: Building the Autoencoder"
      ]
    },
    {
      "cell_type": "markdown",
      "metadata": {
        "id": "bblPGjCjHabf",
        "colab_type": "text"
      },
      "source": [
        "If one or more hidden layers in this neural network has not less nodes **(not sure about this word jerry)** compare to the input and output layer then the training process will force the network to learn a function similar to principal component analysis essentially reducing dimensionality. And it will force our model to learn the more important charcteristics from the dataset and focus only on that. "
      ]
    },
    {
      "cell_type": "markdown",
      "metadata": {
        "id": "CjbjaaR8K-hs",
        "colab_type": "text"
      },
      "source": [
        "# **Jerry didn't understand following code properly**"
      ]
    },
    {
      "cell_type": "code",
      "metadata": {
        "id": "JZ5FY6rzy0zS",
        "colab_type": "code",
        "colab": {}
      },
      "source": [
        "# we take image with 784 features and reduce the dimensionality and force it to have 64 features and at last expand it again(back to 784 features)\n",
        "# This way, our auto encoder learns to focus only on the important stuff \n",
        "input_image = Input(shape=(784,))\n",
        "encoded = Dense(64, activation='relu')(input_image)\n",
        "decoded = Dense(784, activation = 'sigmoid')(encoded)\n",
        "\n",
        "autoencoder = Model(input_image, decoded)\n",
        "autoencoder.compile(loss='binary_crossentropy', optimizer='adam')"
      ],
      "execution_count": 0,
      "outputs": []
    },
    {
      "cell_type": "markdown",
      "metadata": {
        "id": "7DcVCXH_y0zV",
        "colab_type": "text"
      },
      "source": [
        "## Task 6: Training the Autoencoder"
      ]
    },
    {
      "cell_type": "markdown",
      "metadata": {
        "id": "syVVfcy6kBEV",
        "colab_type": "text"
      },
      "source": [
        "By doin this training, our auto encoder will learn to recognize the important features and learn to ignore non-important features. "
      ]
    },
    {
      "cell_type": "markdown",
      "metadata": {
        "id": "t-l8iKQolDcd",
        "colab_type": "text"
      },
      "source": [
        "1. **Verbose** is an optional argument which can be used to report more information about an operation in your program.\n",
        "\n",
        "2. **Validation_split**: Float between 0 and 1. Fraction of the training data to be used as validation data.\n",
        "\n",
        "3. **Batch_size** denotes the subset size of your training sample (e.g. 100 out of 1000) which is going to be used in order to train the network during its learning process.\n",
        "\n",
        "4. An **Epoch** refers to one cycle through the full training dataset."
      ]
    },
    {
      "cell_type": "code",
      "metadata": {
        "id": "j8YypXwty0zW",
        "colab_type": "code",
        "outputId": "aa99b32d-32b6-4c25-8af0-e018c845d12b",
        "colab": {
          "base_uri": "https://localhost:8080/",
          "height": 70
        }
      },
      "source": [
        "# batch_size=512 -> helps to speed up the training process \n",
        "autoencoder.fit(\n",
        "    X_train_noisy, X_train, epochs=100, \n",
        "    batch_size=512, validation_split=0.2, verbose=False, \n",
        "    callbacks=[\n",
        "               # if validation loss does not decrease for 5 epochs then our model will stop the training\n",
        "               EarlyStopping(monitor='val_loss', patience=5),\n",
        "               # on_epoch_end - means lambda function will call on the end of each epoch \n",
        "               LambdaCallback(on_epoch_end=lambda e,l: print('{:.3f}'.format(l['val_loss']), end=' _ '))\n",
        "    ]\n",
        ")\n",
        "\n",
        "print(' _ ')\n",
        "print(\"Training is complete!\")"
      ],
      "execution_count": 0,
      "outputs": [
        {
          "output_type": "stream",
          "text": [
            "0.259 _ 0.232 _ 0.201 _ 0.182 _ 0.171 _ 0.162 _ 0.154 _ 0.147 _ 0.141 _ 0.136 _ 0.133 _ 0.129 _ 0.126 _ 0.124 _ 0.122 _ 0.120 _ 0.118 _ 0.117 _ 0.116 _ 0.115 _ 0.114 _ 0.113 _ 0.112 _ 0.112 _ 0.111 _ 0.111 _ 0.110 _ 0.110 _ 0.109 _ 0.109 _ 0.109 _ 0.108 _ 0.108 _ 0.108 _ 0.108 _ 0.108 _ 0.108 _ 0.107 _ 0.107 _ 0.107 _ 0.107 _ 0.107 _ 0.107 _ 0.107 _ 0.107 _ 0.107 _ 0.107 _ 0.107 _ 0.107 _ 0.107 _ 0.107 _ 0.107 _ 0.107 _ 0.107 _ 0.107 _ 0.107 _ 0.107 _ 0.107 _ 0.107 _ 0.107 _ 0.107 _ 0.106 _ 0.107 _ 0.106 _ 0.107 _ 0.107 _ 0.106 _ 0.106 _ 0.106 _ 0.107 _ 0.106 _ 0.106 _ 0.106 _ 0.106 _ 0.107 _ 0.106 _ 0.106 _ 0.106 _ 0.106 _ 0.106 _ 0.106 _ 0.107 _ 0.106 _ 0.106 _ 0.106 _ 0.106 _ 0.106 _ 0.106 _ 0.106 _ 0.106 _ 0.106 _ 0.106 _ 0.106 _ 0.106 _ 0.106 _ 0.106 _ 0.106 _ 0.106 _ 0.106 _ 0.106 _  _ \n",
            "Training is complete!\n"
          ],
          "name": "stdout"
        }
      ]
    },
    {
      "cell_type": "markdown",
      "metadata": {
        "id": "OHuTb0RDy0zb",
        "colab_type": "text"
      },
      "source": [
        "## Task 7: Denoised Images"
      ]
    },
    {
      "cell_type": "code",
      "metadata": {
        "id": "QRMi7xbWy0zc",
        "colab_type": "code",
        "colab": {}
      },
      "source": [
        "predictions = autoencoder.predict(X_test_noisy)"
      ],
      "execution_count": 0,
      "outputs": []
    },
    {
      "cell_type": "code",
      "metadata": {
        "id": "itNGjyEUy0zf",
        "colab_type": "code",
        "outputId": "c3032cdb-5ee8-4546-bfb4-c2b01a6c3cbd",
        "colab": {
          "base_uri": "https://localhost:8080/",
          "height": 128
        }
      },
      "source": [
        "plot(X_test_noisy, None)"
      ],
      "execution_count": 0,
      "outputs": [
        {
          "output_type": "display_data",
          "data": {
            "image/png": "[encoded data removed]",
            "text/plain": [
              "<Figure size 1440x144 with 10 Axes>"
            ]
          },
          "metadata": {
            "tags": []
          }
        }
      ]
    },
    {
      "cell_type": "code",
      "metadata": {
        "id": "qSyiPpYly0zj",
        "colab_type": "code",
        "outputId": "52d961c8-08fb-4536-b8f6-83a4ff13505a",
        "colab": {
          "base_uri": "https://localhost:8080/",
          "height": 128
        }
      },
      "source": [
        "plot(predictions, None)"
      ],
      "execution_count": 0,
      "outputs": [
        {
          "output_type": "display_data",
          "data": {
            "image/png": "[encoded data removed]",
            "text/plain": [
              "<Figure size 1440x144 with 10 Axes>"
            ]
          },
          "metadata": {
            "tags": []
          }
        }
      ]
    },
    {
      "cell_type": "markdown",
      "metadata": {
        "id": "3qljS0nfopQq",
        "colab_type": "text"
      },
      "source": [
        "**Note** - This can be improved more by using convolutional neural network. "
      ]
    },
    {
      "cell_type": "code",
      "metadata": {
        "id": "vR-oSUbHy0zm",
        "colab_type": "code",
        "outputId": "75fb725c-4821-47e9-ac8b-58ec0106947a",
        "colab": {
          "base_uri": "https://localhost:8080/",
          "height": 66
        }
      },
      "source": [
        "loss, accuracy = classifier.evaluate(X_test_noisy, Y_test)\n",
        "print(\"For noisy data - \")\n",
        "print(accuracy)"
      ],
      "execution_count": 0,
      "outputs": [
        {
          "output_type": "stream",
          "text": [
            "313/313 [==============================] - 0s 2ms/step - loss: 9.6860 - accuracy: 0.1614\n",
            "For noisy data-\n",
            "0.16140000522136688\n"
          ],
          "name": "stdout"
        }
      ]
    },
    {
      "cell_type": "code",
      "metadata": {
        "id": "bJA1gAwJpQII",
        "colab_type": "code",
        "outputId": "b3d32b6c-f7a3-4d8f-c32a-d1584c476ef0",
        "colab": {
          "base_uri": "https://localhost:8080/",
          "height": 66
        }
      },
      "source": [
        "loss, accuracy = classifier.evaluate(predictions, Y_test)\n",
        "print(\"For denoised data - \")\n",
        "print(accuracy)"
      ],
      "execution_count": 0,
      "outputs": [
        {
          "output_type": "stream",
          "text": [
            "313/313 [==============================] - 0s 2ms/step - loss: 0.1621 - accuracy: 0.9482\n",
            "For denoised data - \n",
            "0.948199987411499\n"
          ],
          "name": "stdout"
        }
      ]
    },
    {
      "cell_type": "markdown",
      "metadata": {
        "id": "bMek70jPy0zp",
        "colab_type": "text"
      },
      "source": [
        "## Task 8: Composite Model"
      ]
    },
    {
      "cell_type": "code",
      "metadata": {
        "id": "XOTZHxPxy0zp",
        "colab_type": "code",
        "colab": {}
      },
      "source": [
        "input_image = Input(shape=(784,))\n",
        "x = autoencoder(input_image)   # hopefully x is denoised image \n",
        "y = classifier(x)\n",
        "\n",
        "denoise_and_classify = Model(input_image, y)"
      ],
      "execution_count": 0,
      "outputs": []
    },
    {
      "cell_type": "code",
      "metadata": {
        "id": "83blj5WRy0zt",
        "colab_type": "code",
        "colab": {}
      },
      "source": [
        "predictions = denoise_and_classify.predict(X_test_noisy)"
      ],
      "execution_count": 0,
      "outputs": []
    },
    {
      "cell_type": "code",
      "metadata": {
        "id": "NqkMYb_4y0zw",
        "colab_type": "code",
        "outputId": "11eec576-eaa2-43c8-c79d-b743594a0ee3",
        "colab": {
          "base_uri": "https://localhost:8080/",
          "height": 138
        }
      },
      "source": [
        "plot(X_test_noisy, predictions, True)"
      ],
      "execution_count": 0,
      "outputs": [
        {
          "output_type": "display_data",
          "data": {
            "image/png": "[encoded data removed]",
            "text/plain": [
              "<Figure size 1440x144 with 10 Axes>"
            ]
          },
          "metadata": {
            "tags": []
          }
        }
      ]
    },
    {
      "cell_type": "code",
      "metadata": {
        "id": "yivIayFSrt40",
        "colab_type": "code",
        "outputId": "28295d3b-9dd5-4883-e687-8fcf6521fb7b",
        "colab": {
          "base_uri": "https://localhost:8080/",
          "height": 50
        }
      },
      "source": [
        "a=to_categorical(Y_test)\n",
        "print(Y_test[0])\n",
        "print(a[0])"
      ],
      "execution_count": 0,
      "outputs": [
        {
          "output_type": "stream",
          "text": [
            "7\n",
            "[0. 0. 0. 0. 0. 0. 0. 1. 0. 0.]\n"
          ],
          "name": "stdout"
        }
      ]
    },
    {
      "cell_type": "code",
      "metadata": {
        "id": "JnUzSbnly0z0",
        "colab_type": "code",
        "outputId": "69fd46b9-cc34-415b-c20e-b15dc58d3e63",
        "colab": {
          "base_uri": "https://localhost:8080/",
          "height": 138
        }
      },
      "source": [
        "plot(X_test, to_categorical(Y_test), True)"
      ],
      "execution_count": 0,
      "outputs": [
        {
          "output_type": "display_data",
          "data": {
            "image/png": "[encoded data removed]",
            "text/plain": [
              "<Figure size 1440x144 with 10 Axes>"
            ]
          },
          "metadata": {
            "tags": []
          }
        }
      ]
    }
  ]
}