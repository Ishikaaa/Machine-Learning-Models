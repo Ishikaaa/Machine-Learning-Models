{
  "nbformat": 4,
  "nbformat_minor": 0,
  "metadata": {
    "kernelspec": {
      "display_name": "Python 3",
      "language": "python",
      "name": "python3"
    },
    "language_info": {
      "codemirror_mode": {
        "name": "ipython",
        "version": 3
      },
      "file_extension": ".py",
      "mimetype": "text/x-python",
      "name": "python",
      "nbconvert_exporter": "python",
      "pygments_lexer": "ipython3",
      "version": "3.7.3"
    },
    "colab": {
      "name": "01_Student_Notebook_neural_network.ipynb",
      "provenance": [],
      "collapsed_sections": []
    }
  },
  "cells": [
    {
      "cell_type": "markdown",
      "metadata": {
        "id": "geIWghNRU4mb",
        "colab_type": "text"
      },
      "source": [
        "![Rhyme](https://rhyme.com/assets/img/logo-dark.png)"
      ]
    },
    {
      "cell_type": "markdown",
      "metadata": {
        "id": "EJMt2XRYU4me",
        "colab_type": "text"
      },
      "source": [
        "# Task 1: Introduction\n",
        "\n",
        "Welcome to Basic Image Classification with TensorFlow.\n",
        "\n",
        "This graph describes the problem that we are trying to solve visually. We want to create and train a model that takes an image of a hand written digit as input and predicts the class of that digit, that is, it predicts the digit or it predicts the class of the input image.\n",
        "\n",
        "![Hand Written Digits Classification](images/1_1.png)"
      ]
    },
    {
      "cell_type": "markdown",
      "metadata": {
        "id": "e_JUWLTvU4mf",
        "colab_type": "text"
      },
      "source": [
        "### Import TensorFlow"
      ]
    },
    {
      "cell_type": "code",
      "metadata": {
        "id": "0s3XPac6U4mg",
        "colab_type": "code",
        "colab": {
          "base_uri": "https://localhost:8080/",
          "height": 34
        },
        "outputId": "1bbe7c2d-9461-4220-d944-a14ca897b107"
      },
      "source": [
        "import tensorflow as tf\n",
        "from tensorflow.keras.datasets import mnist\n",
        "from matplotlib import pyplot as plt\n",
        "from tensorflow.keras.utils import to_categorical\n",
        "import numpy as np\n",
        "from tensorflow.keras.models import Sequential\n",
        "from tensorflow.keras.layers import Dense\n",
        "\n",
        "%matplotlib inline    \n",
        "tf.compat.v1.logging.set_verbosity(tf.compat.v1.logging.ERROR)\n",
        "print('Using TensorFlow version', tf.__version__)"
      ],
      "execution_count": 33,
      "outputs": [
        {
          "output_type": "stream",
          "text": [
            "Using TensorFlow version 2.2.0-rc3\n"
          ],
          "name": "stdout"
        }
      ]
    },
    {
      "cell_type": "markdown",
      "metadata": {
        "id": "5T4P_kdObWWE",
        "colab_type": "text"
      },
      "source": [
        "**Note** - \n",
        "\n",
        "1. %matplotlib inline - to ensure that images are displayed within the notebook"
      ]
    },
    {
      "cell_type": "markdown",
      "metadata": {
        "id": "LMXwc-xJU4mk",
        "colab_type": "text"
      },
      "source": [
        "# Task 2: The Dataset\n",
        "### Load MNIST"
      ]
    },
    {
      "cell_type": "markdown",
      "metadata": {
        "id": "VpPjoGDGXN9q",
        "colab_type": "text"
      },
      "source": [
        "The **MNIST** database (Modified National Institute of Standards and Technology database) is a large database of handwritten digits that is commonly used for training various image processing systems."
      ]
    },
    {
      "cell_type": "code",
      "metadata": {
        "id": "2ew4SQK_U4ml",
        "colab_type": "code",
        "colab": {}
      },
      "source": [
        "(X_train, Y_train), (X_test, Y_test) = mnist.load_data()"
      ],
      "execution_count": 0,
      "outputs": []
    },
    {
      "cell_type": "markdown",
      "metadata": {
        "id": "K33_AdHqU4mp",
        "colab_type": "text"
      },
      "source": [
        "### Shapes of Imported Arrays"
      ]
    },
    {
      "cell_type": "code",
      "metadata": {
        "id": "1--mWRlLU4mr",
        "colab_type": "code",
        "colab": {
          "base_uri": "https://localhost:8080/",
          "height": 87
        },
        "outputId": "4476f06c-88d4-43af-9d8d-c78b306cc753"
      },
      "source": [
        "print(\"X_train shape:\", X_train.shape)\n",
        "print(\"Y_train shape:\", Y_train.shape)\n",
        "print(\"X_test shape:\", X_test.shape)\n",
        "print(\"Y_test shape:\", Y_test.shape)"
      ],
      "execution_count": 6,
      "outputs": [
        {
          "output_type": "stream",
          "text": [
            "X_train shape: (60000, 28, 28)\n",
            "Y_train shape: (60000,)\n",
            "X_test shape: (10000, 28, 28)\n",
            "Y_test shape: (10000,)\n"
          ],
          "name": "stdout"
        }
      ]
    },
    {
      "cell_type": "markdown",
      "metadata": {
        "id": "5OxDX-YCY7Gs",
        "colab_type": "text"
      },
      "source": [
        "**Note** - \n",
        "\n",
        "1. X_train shape: (60000, 28, 28)  ->  There are 60000 image examples. Each example has 28 rows and 28 columns, i.e., 28 by 28 are the pixels. "
      ]
    },
    {
      "cell_type": "markdown",
      "metadata": {
        "id": "TQvQ4hRdU4mz",
        "colab_type": "text"
      },
      "source": [
        "### Plot an Image Example"
      ]
    },
    {
      "cell_type": "code",
      "metadata": {
        "id": "MHYhouR5U4m0",
        "colab_type": "code",
        "colab": {
          "base_uri": "https://localhost:8080/",
          "height": 264
        },
        "outputId": "5da49efc-86fe-430e-b1d4-43c753667301"
      },
      "source": [
        "# cmap - to give colour to our image \n",
        "# binary - to display black and white colour\n",
        "plt.imshow(X_train[0], cmap='binary')\n",
        "plt.show()"
      ],
      "execution_count": 8,
      "outputs": [
        {
          "output_type": "display_data",
          "data": {
            "image/png": "[encoded data removed]",
            "text/plain": [
              "<Figure size 432x288 with 1 Axes>"
            ]
          },
          "metadata": {
            "tags": [],
            "needs_background": "light"
          }
        }
      ]
    },
    {
      "cell_type": "markdown",
      "metadata": {
        "id": "2yIuHVssU4m4",
        "colab_type": "text"
      },
      "source": [
        "### Display Labels"
      ]
    },
    {
      "cell_type": "code",
      "metadata": {
        "id": "LVKmILbeU4m5",
        "colab_type": "code",
        "colab": {
          "base_uri": "https://localhost:8080/",
          "height": 34
        },
        "outputId": "9dc01a21-6cb1-45c0-bac2-4d939cb36b07"
      },
      "source": [
        "Y_train[0]"
      ],
      "execution_count": 9,
      "outputs": [
        {
          "output_type": "execute_result",
          "data": {
            "text/plain": [
              "5"
            ]
          },
          "metadata": {
            "tags": []
          },
          "execution_count": 9
        }
      ]
    },
    {
      "cell_type": "code",
      "metadata": {
        "id": "WO0LJoxIU4m_",
        "colab_type": "code",
        "colab": {
          "base_uri": "https://localhost:8080/",
          "height": 34
        },
        "outputId": "1f9900c3-d859-48c7-d642-91743573844b"
      },
      "source": [
        "print(set(Y_train))   # it will give me all unique values in Y_train set "
      ],
      "execution_count": 10,
      "outputs": [
        {
          "output_type": "stream",
          "text": [
            "{0, 1, 2, 3, 4, 5, 6, 7, 8, 9}\n"
          ],
          "name": "stdout"
        }
      ]
    },
    {
      "cell_type": "markdown",
      "metadata": {
        "id": "tJyMlQrMU4nG",
        "colab_type": "text"
      },
      "source": [
        "# Task 3: One Hot Encoding\n",
        "After this encoding, every label will be converted to a list with 10 elements and the element at index to the corresponding class will be set to 1, rest will be set to 0:\n",
        "\n",
        "| original label | one-hot encoded label |\n",
        "|------|------|\n",
        "| 5 | [0, 0, 0, 0, 0, 1, 0, 0, 0, 0] |\n",
        "| 7 | [0, 0, 0, 0, 0, 0, 0, 1, 0, 0] |\n",
        "| 1 | [0, 1, 0, 0, 0, 0, 0, 0, 0, 0] |\n",
        "\n",
        "### Encoding Labels"
      ]
    },
    {
      "cell_type": "code",
      "metadata": {
        "id": "0Oz5MdTQU4nH",
        "colab_type": "code",
        "colab": {}
      },
      "source": [
        "Y_train_encoded = to_categorical(Y_train)\n",
        "Y_test_encoded = to_categorical(Y_test)"
      ],
      "execution_count": 0,
      "outputs": []
    },
    {
      "cell_type": "markdown",
      "metadata": {
        "id": "MbhF9-cCcmbk",
        "colab_type": "text"
      },
      "source": [
        "**Note** - \n",
        "\n",
        "It would be difficult for model to predict value from 0-9. After encoding, model has to choose class. "
      ]
    },
    {
      "cell_type": "markdown",
      "metadata": {
        "id": "2M2NfUDXU4nL",
        "colab_type": "text"
      },
      "source": [
        "### Validated Shapes"
      ]
    },
    {
      "cell_type": "code",
      "metadata": {
        "id": "BZoJcW7jU4nM",
        "colab_type": "code",
        "colab": {
          "base_uri": "https://localhost:8080/",
          "height": 52
        },
        "outputId": "b50b5b75-1a23-4554-aea7-c044b2d810e7"
      },
      "source": [
        "print(\"Y_train_encoded shape:\", Y_train_encoded.shape)\n",
        "print(\"Y_test_encoded shape:\", Y_test_encoded.shape)"
      ],
      "execution_count": 19,
      "outputs": [
        {
          "output_type": "stream",
          "text": [
            "Y_train_encoded shape: (60000, 10)\n",
            "Y_test_encoded shape: (10000, 10)\n"
          ],
          "name": "stdout"
        }
      ]
    },
    {
      "cell_type": "markdown",
      "metadata": {
        "id": "N41TIgX_U4nQ",
        "colab_type": "text"
      },
      "source": [
        "### Display Encoded Labels"
      ]
    },
    {
      "cell_type": "code",
      "metadata": {
        "id": "yemZ8gfZU4nR",
        "colab_type": "code",
        "colab": {
          "base_uri": "https://localhost:8080/",
          "height": 34
        },
        "outputId": "01b78b2d-2d01-4cd2-c3c4-ebc363c08ecf"
      },
      "source": [
        "Y_train_encoded[0]"
      ],
      "execution_count": 20,
      "outputs": [
        {
          "output_type": "execute_result",
          "data": {
            "text/plain": [
              "array([0., 0., 0., 0., 0., 1., 0., 0., 0., 0.], dtype=float32)"
            ]
          },
          "metadata": {
            "tags": []
          },
          "execution_count": 20
        }
      ]
    },
    {
      "cell_type": "markdown",
      "metadata": {
        "id": "6HkXLc6AU4nV",
        "colab_type": "text"
      },
      "source": [
        "# Task 4: Neural Networks\n",
        "\n",
        "### Linear Equations\n",
        "\n",
        "![Single Neuron](images/1_2.png)\n",
        "\n",
        "The above graph simply represents the equation:\n",
        "\n",
        "\\begin{equation}\n",
        "y = w1 * x1 + w2 * x2 + w3 * x3 + b\n",
        "\\end{equation}\n",
        "\n",
        "Where the `w1, w2, w3` are called the **weights** and `b` is an intercept term called **bias**. The equation can also be *vectorised* like this:\n",
        "\n",
        "\\begin{equation}\n",
        "y = W . X + b\n",
        "\\end{equation}\n",
        "\n",
        "Where `X = [x1, x2, x3]` and `W = [w1, w2, w3].T`. The .T means *transpose*. This is because we want the dot product to give us the result we want i.e. `w1 * x1 + w2 * x2 + w3 * x3`. This gives us the vectorised version of our linear equation.\n",
        "\n",
        "A simple, linear approach to solving hand-written image classification problem - could it work?\n",
        "\n",
        "![Single Neuron with 784 features](images/1_3.png)\n",
        "\n",
        "### Neural Networks\n",
        "\n",
        "![Neural Network with 2 hidden layers](images/1_4.png)\n",
        "\n",
        "This model is much more likely to solve the problem as it can learn more complex function mapping for the inputs and outputs in our dataset."
      ]
    },
    {
      "cell_type": "markdown",
      "metadata": {
        "id": "87xzLwVDiAPw",
        "colab_type": "text"
      },
      "source": [
        "* We can easily find value of W and b by using algebra(in case of data which is not image). \n",
        "\n",
        "* The problem here is that the data which we have is observed. So, due to the nature of observation, we will not be able to find definative value of W and b. \n",
        "\n",
        "* One additional thing that we do in node is that we apply activation as well(in addition to linear output). \n",
        "\n",
        "* Purpose of activation function - to help the neural network to find non-linear patterns in data. And helps models to learn non-linear patterns at different points in the computational graph. \n",
        "\n",
        "* We have few hidden outputs(in hidden layer) which are weighted of our input features pass through an activation function.\n",
        "\n",
        "* In our code; 784 node for input layer, we will have 128 hidden layers and 10 node for output layer."
      ]
    },
    {
      "cell_type": "markdown",
      "metadata": {
        "id": "ZMCwiURrU4nX",
        "colab_type": "text"
      },
      "source": [
        "# Task 5: Preprocessing the Examples\n",
        "\n",
        "### Unrolling N-dimensional Arrays to Vectors"
      ]
    },
    {
      "cell_type": "code",
      "metadata": {
        "id": "t_ToLRqoU4nY",
        "colab_type": "code",
        "colab": {
          "base_uri": "https://localhost:8080/",
          "height": 52
        },
        "outputId": "54a01fcc-9014-443a-e528-756e3b2f4209"
      },
      "source": [
        "# converting 28*28 input input into 784 input list\n",
        "# (6000, 784) - desired shape\n",
        "\n",
        "X_train_reshaped = np.reshape(X_train, (60000, 784))\n",
        "X_test_reshaped = np.reshape(X_test, (10000, 784))\n",
        "\n",
        "print(\"X_train_reshaped shape:\", X_train_reshaped.shape)\n",
        "print(\"X_test_reshaped shape:\", X_test_reshaped.shape)"
      ],
      "execution_count": 24,
      "outputs": [
        {
          "output_type": "stream",
          "text": [
            "X_train_reshaped shape: (60000, 784)\n",
            "X_test_reshaped shape: (10000, 784)\n"
          ],
          "name": "stdout"
        }
      ]
    },
    {
      "cell_type": "markdown",
      "metadata": {
        "id": "liBSOrgtU4ne",
        "colab_type": "text"
      },
      "source": [
        "### Display Pixel Values"
      ]
    },
    {
      "cell_type": "code",
      "metadata": {
        "id": "K6IWfaSrU4nf",
        "colab_type": "code",
        "colab": {
          "base_uri": "https://localhost:8080/",
          "height": 54
        },
        "outputId": "02d554dd-11fb-4026-a8f0-8c5c028e37de"
      },
      "source": [
        "print(set(X_train_reshaped[0]))  # it will give all unique values "
      ],
      "execution_count": 27,
      "outputs": [
        {
          "output_type": "stream",
          "text": [
            "{0, 1, 2, 3, 9, 11, 14, 16, 18, 23, 24, 25, 26, 27, 30, 35, 36, 39, 43, 45, 46, 49, 55, 56, 64, 66, 70, 78, 80, 81, 82, 90, 93, 94, 107, 108, 114, 119, 126, 127, 130, 132, 133, 135, 136, 139, 148, 150, 154, 156, 160, 166, 170, 171, 172, 175, 182, 183, 186, 187, 190, 195, 198, 201, 205, 207, 212, 213, 219, 221, 225, 226, 229, 238, 240, 241, 242, 244, 247, 249, 250, 251, 252, 253, 255}\n"
          ],
          "name": "stdout"
        }
      ]
    },
    {
      "cell_type": "markdown",
      "metadata": {
        "id": "sWSf5n3EU4nj",
        "colab_type": "text"
      },
      "source": [
        "### Data Normalization"
      ]
    },
    {
      "cell_type": "markdown",
      "metadata": {
        "id": "KETbIBr5uZuc",
        "colab_type": "text"
      },
      "source": [
        "For model to learn W and b for different layers, the computations will be much more effective and fast if we normalize the data. "
      ]
    },
    {
      "cell_type": "code",
      "metadata": {
        "id": "KzuH8xeRU4nj",
        "colab_type": "code",
        "colab": {}
      },
      "source": [
        "X_mean = np.mean(X_train_reshaped)\n",
        "X_std = np.std(X_train_reshaped)\n",
        "\n",
        "# defining a very small constant value\n",
        "epsilion = 1e-10\n",
        "\n",
        "# very small value of std will lead to unstability in computation and adding another small value can solve this problem(if exists)\n",
        "X_train_norm = (X_train_reshaped-X_mean)/(X_std+epsilion)\n",
        "# because we wanna do same pre-processing on test as which we have done on trainnig set.\n",
        "X_test_norm = (X_test_reshaped-X_mean)/(X_std+epsilion)"
      ],
      "execution_count": 0,
      "outputs": []
    },
    {
      "cell_type": "markdown",
      "metadata": {
        "id": "_Q5aPFflU4nm",
        "colab_type": "text"
      },
      "source": [
        "### Display Normalized Pixel Values"
      ]
    },
    {
      "cell_type": "code",
      "metadata": {
        "id": "MEl7DxV4U4nn",
        "colab_type": "code",
        "colab": {
          "base_uri": "https://localhost:8080/",
          "height": 54
        },
        "outputId": "d5a8dd8f-f114-4f20-d17b-15600ffd658b"
      },
      "source": [
        "print(set(X_train_norm[0]))"
      ],
      "execution_count": 31,
      "outputs": [
        {
          "output_type": "stream",
          "text": [
            "{-0.38589016215482896, 1.306921966983251, 1.17964285952926, 1.803310486053816, 1.6887592893452241, 2.8215433456857437, 2.719720059722551, 1.1923707702746593, 1.7396709323268205, 2.057868700961798, 2.3633385588513764, 2.096052433197995, 1.7651267538176187, 2.7960875241949457, 2.7451758812133495, 2.45243393406917, 0.02140298169794222, -0.22042732246464067, 1.2305545025108566, 0.2759611966059242, 2.210603629906587, 2.6560805059955555, 2.6051688630139593, -0.4240738943910262, 0.4668798577869107, 0.1486820891519332, 0.3905123933145161, 1.0905474843114664, -0.09314821501064967, 1.4851127174188385, 2.7579037919587486, 1.5360243604004349, 0.07231462467953861, -0.13133194724684696, 1.294194056237852, 0.03413089244334132, 1.3451056992194483, 2.274243183633583, -0.24588314395543887, 0.772349715676489, 0.75962180493109, 0.7214380726948927, 0.1995937321335296, -0.41134598364562713, 0.5687031437501034, 0.5941589652409017, 0.9378125553666773, 0.9505404661120763, 0.6068868759863008, 0.4159682148053143, -0.042236572029053274, 2.7706317027041476, 2.1342361654341926, 0.12322626766113501, -0.08042030426525057, 0.16140999989733232, 1.8924058612716097, 1.2560103240016547, 2.185147808415789, 0.6196147867316999, 1.943317504253206, -0.11860403650144787, -0.30952269768243434, 1.9942291472348024, -0.2840668761916362, 2.6306246845047574, 2.286971094378982, -0.19497150097384247, -0.39861807290022805, 0.2886891073513233, 1.7523988430722195, 2.3887943803421745, 2.681536327486354, 1.4596568959280403, 2.439706023323771, 2.7833596134495466, 2.490617666305367, -0.10587612575604877, 1.5614801818912332, 1.9051337720170087, 1.6123918248728295, 1.268738234747054, 1.9560454149986053, 2.6433525952501564, 1.026907930584471}\n"
          ],
          "name": "stdout"
        }
      ]
    },
    {
      "cell_type": "markdown",
      "metadata": {
        "id": "Wcvw6l16U4nq",
        "colab_type": "text"
      },
      "source": [
        "# Task 6: Creating a Model\n",
        "### Creating the Model"
      ]
    },
    {
      "cell_type": "code",
      "metadata": {
        "id": "YQoKU7nYU4nr",
        "colab_type": "code",
        "colab": {}
      },
      "source": [
        "# no need to define input layer in Sequential layer. input_shape() will automatically define input layer \n",
        "model = Sequential([\n",
        "                    Dense(128, activation='relu', input_shape=(784,)),\n",
        "                    Dense(128, activation='relu'),\n",
        "                    Dense(10, activation='softmax')    # output layer \n",
        "])"
      ],
      "execution_count": 0,
      "outputs": []
    },
    {
      "cell_type": "markdown",
      "metadata": {
        "id": "tON-VS4tU4ny",
        "colab_type": "text"
      },
      "source": [
        "### Activation Functions\n",
        "\n",
        "The first step in the node is the linear sum of the inputs:\n",
        "\\begin{equation}\n",
        "Z = W . X + b\n",
        "\\end{equation}\n",
        "\n",
        "The second step in the node is the activation function output:\n",
        "\n",
        "\\begin{equation}\n",
        "A = f(Z)\n",
        "\\end{equation}\n",
        "\n",
        "Graphical representation of a node where the two operations are performed:\n",
        "\n",
        "![ReLU](images/1_5.png)\n",
        "\n"
      ]
    },
    {
      "cell_type": "markdown",
      "metadata": {
        "id": "wT1RmbdO6BEt",
        "colab_type": "text"
      },
      "source": [
        "There are various types of activation function - \n",
        "\n",
        "1. relu - This is a linear function for all the positive values and is simplicit to zero for all negative values.\n",
        "\n",
        "2. softmax - This function gives us the probability scores for various nodes. And these probability scores sum up to 1. And the class[0,1,2,3,4,5,6,7,8,9] with the heighest probability gives us the prediction."
      ]
    },
    {
      "cell_type": "markdown",
      "metadata": {
        "id": "8djDj6J85_gp",
        "colab_type": "text"
      },
      "source": [
        "### Compiling the Model"
      ]
    },
    {
      "cell_type": "code",
      "metadata": {
        "id": "KE7GSzMmU4nz",
        "colab_type": "code",
        "colab": {
          "base_uri": "https://localhost:8080/",
          "height": 265
        },
        "outputId": "346eeee4-33aa-4d2d-b571-ce155236cc21"
      },
      "source": [
        "model.compile(\n",
        "    optimizer='sgd',\n",
        "    loss='categorical_crossentropy',\n",
        "    metrics=['accuracy']\n",
        ")\n",
        "\n",
        "# to display architecture of the model \n",
        "model.summary()"
      ],
      "execution_count": 36,
      "outputs": [
        {
          "output_type": "stream",
          "text": [
            "Model: \"sequential\"\n",
            "_________________________________________________________________\n",
            "Layer (type)                 Output Shape              Param #   \n",
            "=================================================================\n",
            "dense (Dense)                (None, 128)               100480    \n",
            "_________________________________________________________________\n",
            "dense_1 (Dense)              (None, 128)               16512     \n",
            "_________________________________________________________________\n",
            "dense_2 (Dense)              (None, 10)                1290      \n",
            "=================================================================\n",
            "Total params: 118,282\n",
            "Trainable params: 118,282\n",
            "Non-trainable params: 0\n",
            "_________________________________________________________________\n"
          ],
          "name": "stdout"
        }
      ]
    },
    {
      "cell_type": "markdown",
      "metadata": {
        "id": "pR7afENj7JTD",
        "colab_type": "text"
      },
      "source": [
        "1. sgd - Stochastic gradient descent -  is an iterative method for optimizing an objective function.\n",
        "2. categorical_crossentropy - It gives the value based on the actual Y and predicted Y value. And this loss should be minimum, to get more and more accurate model."
      ]
    },
    {
      "cell_type": "markdown",
      "metadata": {
        "id": "pDeP1szdU4n4",
        "colab_type": "text"
      },
      "source": [
        "# Task 7: Training the Model\n",
        "\n",
        "### Training the Model"
      ]
    },
    {
      "cell_type": "markdown",
      "metadata": {
        "id": "jp8bv3Nm8k4t",
        "colab_type": "text"
      },
      "source": [
        "Epoch is like the iteration. "
      ]
    },
    {
      "cell_type": "code",
      "metadata": {
        "id": "1Ey6zjufU4n6",
        "colab_type": "code",
        "colab": {
          "base_uri": "https://localhost:8080/",
          "height": 141
        },
        "outputId": "3e0203e5-6aac-4395-ab0d-bf0ce6ee5268"
      },
      "source": [
        "# we will go through these examples 3 times \n",
        "model.fit(X_train_norm, Y_train_encoded, epochs=3)"
      ],
      "execution_count": 39,
      "outputs": [
        {
          "output_type": "stream",
          "text": [
            "Epoch 1/3\n",
            "1875/1875 [==============================] - 3s 2ms/step - loss: 0.1384 - accuracy: 0.9593\n",
            "Epoch 2/3\n",
            "1875/1875 [==============================] - 3s 2ms/step - loss: 0.1121 - accuracy: 0.9677\n",
            "Epoch 3/3\n",
            "1875/1875 [==============================] - 3s 2ms/step - loss: 0.0942 - accuracy: 0.9728\n"
          ],
          "name": "stdout"
        },
        {
          "output_type": "execute_result",
          "data": {
            "text/plain": [
              "<tensorflow.python.keras.callbacks.History at 0x7fca3df0f940>"
            ]
          },
          "metadata": {
            "tags": []
          },
          "execution_count": 39
        }
      ]
    },
    {
      "cell_type": "markdown",
      "metadata": {
        "id": "paq_NLlrU4n9",
        "colab_type": "text"
      },
      "source": [
        "### Evaluating the Model"
      ]
    },
    {
      "cell_type": "code",
      "metadata": {
        "id": "Cx-V_zJcU4n9",
        "colab_type": "code",
        "colab": {
          "base_uri": "https://localhost:8080/",
          "height": 52
        },
        "outputId": "a72135da-5b5b-4604-9a19-5fab14ef4f62"
      },
      "source": [
        "loss, accuracy = model.evaluate(X_test_norm, Y_test_encoded)\n",
        "print(accuracy)"
      ],
      "execution_count": 40,
      "outputs": [
        {
          "output_type": "stream",
          "text": [
            "313/313 [==============================] - 0s 1ms/step - loss: 0.1024 - accuracy: 0.9671\n",
            "0.9671000242233276\n"
          ],
          "name": "stdout"
        }
      ]
    },
    {
      "cell_type": "markdown",
      "metadata": {
        "id": "QZv4uAhS-H8K",
        "colab_type": "text"
      },
      "source": [
        "**Note** - \n",
        "\n",
        "If accuracy(Evaluating the model)<<accuracy(Training the model) that means model has just learnt the training examples."
      ]
    },
    {
      "cell_type": "markdown",
      "metadata": {
        "id": "jfyxquJnU4oB",
        "colab_type": "text"
      },
      "source": [
        "# Task 8: Predictions\n",
        "\n",
        "### Predictions on Test Set"
      ]
    },
    {
      "cell_type": "code",
      "metadata": {
        "id": "FWIGUrG9U4oC",
        "colab_type": "code",
        "colab": {
          "base_uri": "https://localhost:8080/",
          "height": 87
        },
        "outputId": "d625b6a7-5c69-47f7-d0fd-55fba126d168"
      },
      "source": [
        "predictions = model.predict(X_test_norm)\n",
        "print(\"Shape of predictions:\", predictions.shape)\n",
        "print(\"prediction[0]:\", predictions[0])"
      ],
      "execution_count": 47,
      "outputs": [
        {
          "output_type": "stream",
          "text": [
            "Shape of predictions: (10000, 10)\n",
            "prediction[0]: [1.78583850e-05 5.00513693e-07 6.81145699e-04 4.07550903e-03\n",
            " 5.54946418e-08 1.21305575e-05 1.66547520e-09 9.95133221e-01\n",
            " 7.73228658e-06 7.18707379e-05]\n"
          ],
          "name": "stdout"
        }
      ]
    },
    {
      "cell_type": "markdown",
      "metadata": {
        "id": "n-IOW04XU4oF",
        "colab_type": "text"
      },
      "source": [
        "### Plotting the Results"
      ]
    },
    {
      "cell_type": "code",
      "metadata": {
        "id": "sowe4vQeU4oG",
        "colab_type": "code",
        "colab": {
          "base_uri": "https://localhost:8080/",
          "height": 696
        },
        "outputId": "8450bbed-8965-49da-b68f-1f1536a11879"
      },
      "source": [
        "plt.figure(figsize=(12,12))\n",
        "\n",
        "start_index = 0\n",
        "\n",
        "# 25 - There are total 10000 examples in our test set. And we can not take all at a time. So, We are taking few examples at a time,i.e., 25\n",
        "for i in range(25):    \n",
        "  plt.subplot(5,5,i+1)\n",
        "  plt.grid(False)\n",
        "  plt.xticks([])\n",
        "  plt.yticks([])\n",
        "\n",
        "  # each prediction is going to be a list of 10 softmax outputs.\n",
        "  pred = np.argmax(predictions[start_index+i])   \n",
        "  actual = Y_test[start_index+i]                     \n",
        "\n",
        "  col = 'g'    # green color \n",
        "  if pred!=actual:\n",
        "    col = 'r'\n",
        "  \n",
        "  plt.xlabel('i={}, pred={}, actual={}'.format(start_index+i, pred, actual), color=col)\n",
        "  plt.imshow(X_test[start_index+i], cmap='binary')\n",
        "plt.show()"
      ],
      "execution_count": 46,
      "outputs": [
        {
          "output_type": "display_data",
          "data": {
            "image/png": "[encoded data removed]",
            "text/plain": [
              "<Figure size 864x864 with 25 Axes>"
            ]
          },
          "metadata": {
            "tags": []
          }
        }
      ]
    },
    {
      "cell_type": "code",
      "metadata": {
        "id": "n0wq3vqDU4oJ",
        "colab_type": "code",
        "colab": {
          "base_uri": "https://localhost:8080/",
          "height": 264
        },
        "outputId": "136212cf-235f-428a-8582-3e652019f9ac"
      },
      "source": [
        "plt.plot(predictions[8])\n",
        "plt.show()"
      ],
      "execution_count": 45,
      "outputs": [
        {
          "output_type": "display_data",
          "data": {
            "image/png": "[encoded data removed]",
            "text/plain": [
              "<Figure size 432x288 with 1 Axes>"
            ]
          },
          "metadata": {
            "tags": [],
            "needs_background": "light"
          }
        }
      ]
    },
    {
      "cell_type": "markdown",
      "metadata": {
        "id": "b0lH6OPJCIlw",
        "colab_type": "text"
      },
      "source": [
        "* These are the softmax probability outputs. "
      ]
    }
  ]
}